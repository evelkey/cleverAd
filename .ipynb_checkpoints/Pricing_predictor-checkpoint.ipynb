{
 "cells": [
  {
   "cell_type": "markdown",
   "metadata": {},
   "source": [
    "# Predict advertising prices"
   ]
  },
  {
   "cell_type": "code",
   "execution_count": 1,
   "metadata": {
    "collapsed": false
   },
   "outputs": [],
   "source": [
    "%matplotlib inline\n",
    "import numpy as np\n",
    "import pandas as pd\n",
    "import tensorflow as tf\n",
    "from matplotlib import pyplot as plt\n",
    "from sklearn.preprocessing import normalize\n",
    "\n",
    "from tensorflow.contrib import learn\n",
    "from sklearn.metrics import mean_squared_error\n",
    "\n",
    "from lstm import  generate_data, lstm_model\n",
    "\n",
    "DATA = pd.read_table(open(\"fulldata.csv\",encoding='utf-8'),header=None,low_memory=False,sep=';')"
   ]
  },
  {
   "cell_type": "code",
   "execution_count": 2,
   "metadata": {
    "collapsed": false
   },
   "outputs": [],
   "source": [
    "X=DATA[[1,5,6,7]]"
   ]
  },
  {
   "cell_type": "code",
   "execution_count": 3,
   "metadata": {
    "collapsed": false,
    "scrolled": true
   },
   "outputs": [],
   "source": [
    "e=X[1].value_counts()"
   ]
  },
  {
   "cell_type": "code",
   "execution_count": 4,
   "metadata": {
    "collapsed": true
   },
   "outputs": [],
   "source": [
    "good_list=[\"58305A05\",\"58209072\",\"582AFE2A\",\"58041E1A\",\"585FBFAB\",\"582D78D2\",\"581F9DFC\",\"5848D0C2\",\"582C911D\",\"583C1DAE\",\"5843CDCC\",\"582169AE\",\"583B0D1A\",\"58437314\",\"585D8BD0\",\"5823DAB9\",\"585D605C\",\"583BC56B\",\"5838039E\",\"585EEE93\",\"5802D3E0\",\"5818E91D\",\"580828AA\",\"58334D62\",\"580F2A7C\",\"5848FFF1\",\"582008D9\",\"5819708F\",\"58120C5C\",\"58199037\"]\n",
    "#reprezentatív mintát véve a legalább 60-szor erőfordulók közül"
   ]
  },
  {
   "cell_type": "code",
   "execution_count": 5,
   "metadata": {
    "collapsed": false
   },
   "outputs": [],
   "source": [
    "if True:\n",
    "    user=\"58305A05\"\n",
    "    sel=X.loc[X[1] == user]\n",
    "    train_x=np.array(sel.as_matrix(columns=[5])[:,0])\n",
    "    train_y=np.array(sel.as_matrix(columns=[6,7]))\n",
    "    train_x=train_x.astype(float)\n",
    "    train_y=train_y.astype(float)\n",
    "    valid_x=train_x[int(len(train_x)*9/10):len(train_x)]\n",
    "    train_x=train_x[0:int(len(train_x)*9/10)]\n",
    "    valid_y=train_y[int(len(train_y)*9/10):len(train_y)]\n",
    "    train_y=train_y[0:int(len(train_y)*9/10)]"
   ]
  },
  {
   "cell_type": "code",
   "execution_count": 6,
   "metadata": {
    "collapsed": true
   },
   "outputs": [],
   "source": [
    "LOG_DIR = './ops_logs/sin'\n",
    "TIMESTEPS = 20\n",
    "\n",
    "RNN_LAYERS = [{'num_units': 5}]\n",
    "DENSE_LAYERS = None\n",
    "TRAINING_STEPS = 20000\n",
    "PRINT_STEPS = TRAINING_STEPS / 10\n",
    "BATCH_SIZE = 100"
   ]
  },
  {
   "cell_type": "code",
   "execution_count": 7,
   "metadata": {
    "collapsed": false
   },
   "outputs": [
    {
     "name": "stderr",
     "output_type": "stream",
     "text": [
      "WARNING:tensorflow:Using default config.\n"
     ]
    }
   ],
   "source": [
    "regressor = learn.Estimator(model_fn=lstm_model(TIMESTEPS, RNN_LAYERS, DENSE_LAYERS),\n",
    "                            model_dir=LOG_DIR)"
   ]
  },
  {
   "cell_type": "code",
   "execution_count": 8,
   "metadata": {
    "collapsed": false
   },
   "outputs": [],
   "source": [
    "train_z=train_y[:,0]\n",
    "train_w=train_y[:,1]"
   ]
  },
  {
   "cell_type": "code",
   "execution_count": 9,
   "metadata": {
    "collapsed": false
   },
   "outputs": [
    {
     "name": "stderr",
     "output_type": "stream",
     "text": [
      "WARNING:tensorflow:sum_of_squares (from tensorflow.contrib.losses.python.losses.loss_ops) is deprecated and will be removed after 2016-10-01.\n",
      "Instructions for updating:\n",
      "Use mean_squared_error.\n"
     ]
    },
    {
     "data": {
      "text/plain": [
       "Estimator(params=None)"
      ]
     },
     "execution_count": 9,
     "metadata": {},
     "output_type": "execute_result"
    }
   ],
   "source": [
    "X, y = generate_data(train_z,train_x, TIMESTEPS, seperate=False)\n",
    "\n",
    "regressor.fit(X['train'], y['train'], \n",
    "              batch_size=BATCH_SIZE,\n",
    "              steps=TRAINING_STEPS)"
   ]
  },
  {
   "cell_type": "code",
   "execution_count": 10,
   "metadata": {
    "collapsed": false
   },
   "outputs": [
    {
     "name": "stderr",
     "output_type": "stream",
     "text": [
      "WARNING:tensorflow:Calling BaseEstimator.predict (from tensorflow.contrib.learn.python.learn.estimators.estimator) with as_iterable=False is deprecated and will be removed after 2016-09-15.\n",
      "Instructions for updating:\n",
      "The default behavior of predict() is changing. The default value for\n",
      "as_iterable will change to True, and then the flag will be removed\n",
      "altogether. The behavior of this flag is described below.\n",
      "WARNING:tensorflow:sum_of_squares (from tensorflow.contrib.losses.python.losses.loss_ops) is deprecated and will be removed after 2016-10-01.\n",
      "Instructions for updating:\n",
      "Use mean_squared_error.\n"
     ]
    },
    {
     "name": "stdout",
     "output_type": "stream",
     "text": [
      "MSE: 3.930955\n"
     ]
    }
   ],
   "source": [
    "predictedz = regressor.predict(X['train'])\n",
    "rmse = np.sqrt(((predictedz - y['train']) ** 2).mean(axis=0))\n",
    "score = mean_squared_error(predictedz, y['train'])\n",
    "print (\"MSE: %f\" % score)"
   ]
  },
  {
   "cell_type": "code",
   "execution_count": 11,
   "metadata": {
    "collapsed": false
   },
   "outputs": [
    {
     "name": "stderr",
     "output_type": "stream",
     "text": [
      "WARNING:tensorflow:Given features: Tensor(\"input:0\", shape=(?, 20, 1), dtype=float32), required signatures: TensorSignature(dtype=tf.float32, shape=TensorShape([Dimension(None), Dimension(20), Dimension(1)]), is_sparse=False).\n",
      "WARNING:tensorflow:Given targets: Tensor(\"output:0\", shape=(?,), dtype=float32), required signatures: TensorSignature(dtype=tf.float32, shape=TensorShape([Dimension(None)]), is_sparse=False).\n",
      "WARNING:tensorflow:sum_of_squares (from tensorflow.contrib.losses.python.losses.loss_ops) is deprecated and will be removed after 2016-10-01.\n",
      "Instructions for updating:\n",
      "Use mean_squared_error.\n",
      "WARNING:tensorflow:Calling BaseEstimator.predict (from tensorflow.contrib.learn.python.learn.estimators.estimator) with as_iterable=False is deprecated and will be removed after 2016-09-15.\n",
      "Instructions for updating:\n",
      "The default behavior of predict() is changing. The default value for\n",
      "as_iterable will change to True, and then the flag will be removed\n",
      "altogether. The behavior of this flag is described below.\n",
      "WARNING:tensorflow:sum_of_squares (from tensorflow.contrib.losses.python.losses.loss_ops) is deprecated and will be removed after 2016-10-01.\n",
      "Instructions for updating:\n",
      "Use mean_squared_error.\n"
     ]
    },
    {
     "name": "stdout",
     "output_type": "stream",
     "text": [
      "MSE: 0.517682\n"
     ]
    }
   ],
   "source": [
    "X, y = generate_data(train_w,train_x, TIMESTEPS, seperate=False)\n",
    "\n",
    "regressor.fit(X['train'], y['train'], \n",
    "              batch_size=BATCH_SIZE,\n",
    "              steps=TRAINING_STEPS)\n",
    "\n",
    "predictedw = regressor.predict(X['train'])\n",
    "rmse = np.sqrt(((predictedw - y['train']) ** 2).mean(axis=0))\n",
    "score = mean_squared_error(predictedw, y['train'])\n",
    "print (\"MSE: %f\" % score)"
   ]
  },
  {
   "cell_type": "code",
   "execution_count": 17,
   "metadata": {
    "collapsed": false
   },
   "outputs": [
    {
     "data": {
      "text/plain": [
       "<matplotlib.legend.Legend at 0x7ff82046e7f0>"
      ]
     },
     "execution_count": 17,
     "metadata": {},
     "output_type": "execute_result"
    },
    {
     "data": {
      "image/png": "[encoded data removed]",
      "text/plain": [
       "<matplotlib.figure.Figure at 0x7ff8205acb00>"
      ]
     },
     "metadata": {},
     "output_type": "display_data"
    }
   ],
   "source": [
    "plot_predz, = plt.plot(predictedz, label='predictedz')\n",
    "plot_z, = plt.plot(train_z, label='train_z')\n",
    "plot_w, = plt.plot(train_w, label='train_w')\n",
    "plot_predw, =plt.plot(predictedw, label='predictedw')\n",
    "plt.legend(handles=[plot_predz, plot_z,plot_w,plot_predw])"
   ]
  },
  {
   "cell_type": "markdown",
   "metadata": {
    "collapsed": true
   },
   "source": [
    "egész nap folyamán ingázik két pont között"
   ]
  },
  {
   "cell_type": "code",
   "execution_count": 13,
   "metadata": {
    "collapsed": false
   },
   "outputs": [
    {
     "ename": "IndentationError",
     "evalue": "unindent does not match any outer indentation level (<ipython-input-13-114347744c08>, line 19)",
     "output_type": "error",
     "traceback": [
      "\u001b[0;36m  File \u001b[0;32m\"<ipython-input-13-114347744c08>\"\u001b[0;36m, line \u001b[0;32m19\u001b[0m\n\u001b[0;31m    return tornyok[legkozelebb]\u001b[0m\n\u001b[0m                               ^\u001b[0m\n\u001b[0;31mIndentationError\u001b[0m\u001b[0;31m:\u001b[0m unindent does not match any outer indentation level\n"
     ]
    }
   ],
   "source": [
    "def findclosest(buszok,tornyok):\n",
    "\tasd = []\n",
    "\tfor i,busz in buszok.iterrows():\n",
    "\t\tdistances = []\n",
    "\t\tfor j,torony in tornyok.iterrows():\n",
    "\n",
    "\t\t\tdist = distance([torony[\"latitude\"],torony[\"longitude\"]],[busz[\"lat\"],busz[\"long\"]])\n",
    "\t\t\tdistances.append(dist)\n",
    "\t\t\n",
    "\t\tlegkozelebb = distances.index(min(distances))\n",
    "\t\t\n",
    "\t\tsting = str(tornyok.ix[legkozelebb][0]) + \" \"\n",
    "\t\tsting = sting + str(tornyok.ix[legkozelebb][1]) + \",\"\t\t\n",
    "\t\tasd.append(sting)\n",
    "\t\t\n",
    "\t\n",
    "\t\tprint(\".\")\n",
    "\t\t\n",
    "\t return tornyok[legkozelebb]"
   ]
  },
  {
   "cell_type": "markdown",
   "metadata": {},
   "source": [
    "# Demo usage: Predict prices for the advertiser\n"
   ]
  },
  {
   "cell_type": "markdown",
   "metadata": {
    "collapsed": true
   },
   "source": [
    "NUMBER_OF_TOWERS=10\n",
    "START=0\n",
    "TOWERS=zeros(NUMBER_OF_TOWERS)\n",
    "TIME=3000 #azaz 3000*10percre foglalták le a plakátot\n",
    "#legyen 10 perces az átlagos pozícióküldési periódus\n",
    "#predikció TIME percre előre:\n",
    "log=\"\"\n",
    "for user in users:\n",
    "    #LSTM (RNN) tanítása\n",
    "    #Tanító adatok létrehozása az eddig ismert információk alapján a vevőről\n",
    "    X, y = generate_data(train_z,train_x, TIMESTEPS, seperate=False)\n",
    "    #\n",
    "    regressor.fit(X['train'], y['train'], batch_size=BATCH_SIZE,steps=TRAINING_STEPS)\n",
    "    #ez után kiszámoljuk, hogy a legnagyobb valószínűséggel hol tartózkodik a jövőben\n",
    "    np.zeros(TIME)\n",
    "    for i in range(TIME):\n",
    "        position[i] = regressor.predict(X['train'])\n",
    "        a=findclosest(user,TOWERS)\n",
    "        a+=1\n",
    "        log+=user+\",\"+TOWERS+\",\"str(START+i*10)+\"\\n\"\n",
    "        #minden emberről elmentettük, hogy melyik időben várhatóan hol lesz\n",
    "        #ez alapján számoljuk a reklámok megtérülési rátáját, ha ez minden felhasználóra ismert               ROI!!\n",
    "    #súlyozva a relevancia szinttel megkapjuk a várható ROI-t.\n",
    "Overall_price=0\n",
    "for tower in TOWERS:\n",
    "    Overall_price+=relevant(user,Ad)*Time+BASEPRICE*Time+seenbynumber*Time\n",
    "print(Overallprice)"
   ]
  },
  {
   "cell_type": "markdown",
   "metadata": {},
   "source": [
    "# ROI is given in the end of the month, this is prediction."
   ]
  }
 ],
 "metadata": {
  "kernelspec": {
   "display_name": "Python 3",
   "language": "python",
   "name": "python3"
  },
  "language_info": {
   "codemirror_mode": {
    "name": "ipython",
    "version": 3
   },
   "file_extension": ".py",
   "mimetype": "text/x-python",
   "name": "python",
   "nbconvert_exporter": "python",
   "pygments_lexer": "ipython3",
   "version": "3.4.2"
  }
 },
 "nbformat": 4,
 "nbformat_minor": 1
}
